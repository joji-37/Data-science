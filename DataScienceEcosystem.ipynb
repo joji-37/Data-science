{
  "metadata": {
    "kernelspec": {
      "name": "xpython",
      "display_name": "Python 3.13 (XPython)",
      "language": "python"
    },
    "language_info": {
      "file_extension": ".py",
      "mimetype": "text/x-python",
      "name": "python",
      "version": "3.13.1"
    }
  },
  "nbformat_minor": 5,
  "nbformat": 4,
  "cells": [
    {
      "id": "30e508cd-38cb-46dc-9186-4ac890c2e161",
      "cell_type": "markdown",
      "source": "# Data Science Tools and Ecosystem ",
      "metadata": {}
    },
    {
      "id": "093587b1-68ca-4c74-9ac8-e3dfcacff296",
      "cell_type": "markdown",
      "source": "## Autor\nJairo Leonel Partida Flores",
      "metadata": {}
    },
    {
      "id": "ac0d318c-7f67-4282-a240-5e0c9520d47c",
      "cell_type": "markdown",
      "source": " *En este cuaderno, se resumen las herramientas y ecosistemas de ciencia de datos*\n ",
      "metadata": {}
    },
    {
      "id": "fd685ecb-70e7-406b-9bed-cd59c08f82dd",
      "cell_type": "markdown",
      "source": "**objetivos:**\nCubrir puntos claves como\n- Lenguajes para la ciencia de datos\n- Bibliiotecas para la ciencia de datos\n- Herramientas populales para la ciencia de datos\n- Expreciones en lenguaje Python",
      "metadata": {}
    },
    {
      "id": "ca3f9c39-5098-49f1-8d96-b3d63c9b8c68",
      "cell_type": "markdown",
      "source": "Algunos de los lenguajes populares que utilizan los científicos de datos son:\n1. Python\n2. R\n3. Julia ",
      "metadata": {}
    },
    {
      "id": "7f8177a5-4b65-4068-9808-5c5883a8a9f7",
      "cell_type": "markdown",
      "source": "Algunas de las bibliotecas comúnmente utilizadas por los científicos de datos incluyen:\n1. Pandas\n2. Numpy\n3. Scikit-learn\n",
      "metadata": {}
    },
    {
      "id": "2ebc5245-17b7-4527-b33c-18e9d230d1d9",
      "cell_type": "markdown",
      "source": "| Herramientas de Ciencia de Datos |\n-\n| Matplotlib |\n-\n| JupyterLab |\n-\n| TensorFlow |\n-",
      "metadata": {}
    },
    {
      "id": "1ef022d5-9d83-4884-bd37-2daf35027c32",
      "cell_type": "markdown",
      "source": "",
      "metadata": {}
    },
    {
      "id": "23b82f86-5ef4-4be6-96ec-71f020a745cc",
      "cell_type": "markdown",
      "source": "### A continuación, se presentan algunos ejemplos de evaluación de expresiones aritméticas en Python",
      "metadata": {}
    },
    {
      "id": "1e8e1861-1d82-4a5e-b078-b1c47c1c13d2",
      "cell_type": "code",
      "source": "#Esta es una expresión aritmética simple para multiplicar y luego sumar enteros",
      "metadata": {
        "trusted": true
      },
      "outputs": [],
      "execution_count": 16
    },
    {
      "id": "f90c156d-9a0c-4339-af62-db7effb5906d",
      "cell_type": "code",
      "source": " (3*4)+5",
      "metadata": {
        "trusted": true
      },
      "outputs": [
        {
          "execution_count": 17,
          "output_type": "execute_result",
          "data": {
            "text/plain": "17"
          },
          "metadata": {}
        }
      ],
      "execution_count": 17
    },
    {
      "id": "d7baf8b3-7942-4237-8b3a-74ba6a673efd",
      "cell_type": "code",
      "source": "#Esto convertirá 200 minutos a horas dividiendo por 60.",
      "metadata": {
        "trusted": true
      },
      "outputs": [],
      "execution_count": 18
    },
    {
      "id": "263f3c22-d777-4da5-a2e7-d5bdefab417e",
      "cell_type": "code",
      "source": "200/60",
      "metadata": {
        "trusted": true
      },
      "outputs": [
        {
          "execution_count": 19,
          "output_type": "execute_result",
          "data": {
            "text/plain": "3.3333333333333335"
          },
          "metadata": {}
        }
      ],
      "execution_count": 19
    }
  ]
}